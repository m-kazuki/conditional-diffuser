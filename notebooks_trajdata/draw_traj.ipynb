{
 "cells": [
  {
   "cell_type": "code",
   "execution_count": 1,
   "id": "95213bb4-de85-4061-aab9-89b92a31f2a5",
   "metadata": {},
   "outputs": [],
   "source": [
    "import os\n",
    "from torch.utils.data import DataLoader\n",
    "import torch\n",
    "import ipdb\n",
    "\n",
    "from tqdm import tqdm\n",
    "\n",
    "from trajdata import AgentBatch, AgentType, UnifiedDataset\n",
    "from trajdata.visualization.interactive_animation import (\n",
    "    InteractiveAnimation,\n",
    "    animate_agent_batch_interactive,\n",
    ")\n",
    "\n",
    "import sys\n",
    "\n",
    "sys.path.append(os.path.join(os.getcwd(), '..'))\n",
    "\n",
    "from  trajdata_utils.interactive_vis import plot_agent_batch_interactive\n",
    "from trajdata_utils.vis import plot_agent_batch, plot_scene_batch\n",
    "import copy"
   ]
  },
  {
   "cell_type": "code",
   "execution_count": 2,
   "id": "3ac1180d-e230-4e36-a9f2-2968fff91c8d",
   "metadata": {},
   "outputs": [],
   "source": [
    "# See below for a list of already-supported datasets and splits.\n",
    "torch.manual_seed(5)\n",
    "dataset = UnifiedDataset(\n",
    "    desired_data=[\"eupeds_eth\", \"eupeds_hotel\", \"eupeds_univ\", \"eupeds_zara1\", \"eupeds_zara2\"],\n",
    "    data_dirs={  # Remember to change this to match your filesystem!\n",
    "        \"eupeds_eth\": \"~/traj_dataset/eth-uty\",\n",
    "        \"eupeds_hotel\": \"~/traj_dataset/eth-uty\",\n",
    "        \"eupeds_univ\": \"~/traj_dataset/eth-uty\",\n",
    "        \"eupeds_zara1\": \"~/traj_dataset/eth-uty\",\n",
    "        \"eupeds_zara2\": \"~/traj_dataset/eth-uty\",\n",
    "    },\n",
    "    history_sec =(0.0,  0.0), \n",
    "    future_sec =(15.9,  15.9),\n",
    "    desired_dt=0.1,\n",
    "    # centric='scene'\n",
    ")\n",
    "dataloader = DataLoader(\n",
    "    dataset,\n",
    "    batch_size=1,\n",
    "    shuffle=True,\n",
    "    collate_fn=dataset.get_collate_fn(),\n",
    "    num_workers=0, # This can be set to 0 for single-threaded loading, if desired.\n",
    ")\n",
    "data = iter(dataloader)\n",
    "batch = next(data)"
   ]
  },
  {
   "cell_type": "code",
   "execution_count": 3,
   "id": "e4af9514-8f4c-4ece-8ed0-234a85a0b41e",
   "metadata": {},
   "outputs": [],
   "source": [
    "custom_batch = copy.deepcopy(batch)"
   ]
  },
  {
   "cell_type": "code",
   "execution_count": 4,
   "id": "6acbb172-1529-4e7a-9b54-807ef6bf8839",
   "metadata": {},
   "outputs": [],
   "source": [
    "custom_batch.num_neigh = torch.tensor([1])\n",
    "custom_batch.neigh_hist = batch.neigh_hist[:,0:1,:,:]\n",
    "custom_batch.neigh_fut = batch.neigh_fut[:,0:1,:,:]\n",
    "\n",
    "start = torch.tensor([10.0, 0.0])\n",
    "goal = torch.tensor([0.0,0.0])\n",
    "custom_batch.neigh_hist.position = start\n",
    "custom_batch.neigh_fut.position = torch.cat([torch.linspace(start[0], goal[0], 159).unsqueeze(1),\n",
    "                                           torch.linspace(start[1], goal[1], 159).unsqueeze(1)], axis=1)"
   ]
  },
  {
   "cell_type": "code",
   "execution_count": 5,
   "id": "f9bd8582-22f5-40d5-a7a2-69dda8672195",
   "metadata": {
    "scrolled": true
   },
   "outputs": [],
   "source": [
    "\n",
    "plot_agent_batch_interactive(custom_batch, batch_idx=0, cache_path=dataset.cache_path)"
   ]
  },
  {
   "cell_type": "code",
   "execution_count": 6,
   "id": "27734a06-543d-4ec5-9f09-983096d2a764",
   "metadata": {},
   "outputs": [
    {
     "data": {
      "text/plain": [
       "torch.Size([1, 1, 1, 8])"
      ]
     },
     "execution_count": 6,
     "metadata": {},
     "output_type": "execute_result"
    }
   ],
   "source": [
    "batch.neigh_hist[:,0:1,:,:].shape"
   ]
  },
  {
   "cell_type": "code",
   "execution_count": 7,
   "id": "6d149a01-7505-4f9f-8416-f4a3df51fcd1",
   "metadata": {},
   "outputs": [],
   "source": [
    "custom_batch.neigh_hist.position = torch.tensor([1.0,1.0])"
   ]
  },
  {
   "cell_type": "code",
   "execution_count": 8,
   "id": "7c5051b8-bbea-493a-8563-a90808d85946",
   "metadata": {},
   "outputs": [],
   "source": [
    "custom_batch.neigh_fut.position = torch.cat([torch.linspace(start[0], goal[0], 159).unsqueeze(1),\n",
    "                                           torch.linspace(start[0], goal[0], 159).unsqueeze(1)], axis=1)"
   ]
  },
  {
   "cell_type": "code",
   "execution_count": 9,
   "id": "954adcc5-ee8d-4c6c-a432-c33e7c7fc132",
   "metadata": {},
   "outputs": [],
   "source": [
    "torch.save(custom_batch, 'val_data.pt')"
   ]
  },
  {
   "cell_type": "code",
   "execution_count": null,
   "id": "e14cd9f5-ea51-4dff-ae3a-42672819e65f",
   "metadata": {},
   "outputs": [],
   "source": []
  }
 ],
 "metadata": {
  "kernelspec": {
   "display_name": "Python 3 (ipykernel)",
   "language": "python",
   "name": "python3"
  },
  "language_info": {
   "codemirror_mode": {
    "name": "ipython",
    "version": 3
   },
   "file_extension": ".py",
   "mimetype": "text/x-python",
   "name": "python",
   "nbconvert_exporter": "python",
   "pygments_lexer": "ipython3",
   "version": "3.8.3"
  }
 },
 "nbformat": 4,
 "nbformat_minor": 5
}
