{
 "cells": [
  {
   "cell_type": "code",
   "execution_count": 1,
   "id": "95213bb4-de85-4061-aab9-89b92a31f2a5",
   "metadata": {},
   "outputs": [],
   "source": [
    "import os\n",
    "from torch.utils.data import DataLoader\n",
    "import ipdb\n",
    "\n",
    "from tqdm import tqdm\n",
    "\n",
    "from trajdata import AgentBatch, AgentType, UnifiedDataset\n",
    "from trajdata.visualization.interactive_animation import (\n",
    "    InteractiveAnimation,\n",
    "    animate_agent_batch_interactive,\n",
    ")\n",
    "from trajdata.visualization.interactive_vis import plot_agent_batch_interactive\n",
    "from trajdata.visualization.vis import plot_agent_batch\n",
    "import torch"
   ]
  },
  {
   "cell_type": "code",
   "execution_count": 10,
   "id": "3ac1180d-e230-4e36-a9f2-2968fff91c8d",
   "metadata": {},
   "outputs": [],
   "source": [
    "# See below for a list of already-supported datasets and splits.\n",
    "# dataset = UnifiedDataset(\n",
    "#     desired_data=[\"eupeds_eth\", \"eupeds_hotel\", \"eupeds_univ\", \"eupeds_zara1\", \"eupeds_zara2\"],\n",
    "#     data_dirs={  # Remember to change this to match your filesystem!\n",
    "#         \"eupeds_eth\": \"~/traj_dataset/eth-uty\",\n",
    "#         \"eupeds_hotel\": \"~/traj_dataset/eth-uty\",\n",
    "#         \"eupeds_univ\": \"~/traj_dataset/eth-uty\",\n",
    "#         \"eupeds_zara1\": \"~/traj_dataset/eth-uty\",\n",
    "#         \"eupeds_zara2\": \"~/traj_dataset/eth-uty\",\n",
    "#     },\n",
    "#     history_sec =(0.0,  0.0), \n",
    "#     future_sec =(16.0,  16.0),\n",
    "#     desired_dt=0.1,\n",
    "# )\n",
    "\n",
    "dataset = UnifiedDataset(\n",
    "    desired_data=[\"eupeds_eth\", \"eupeds_hotel\"],\n",
    "    data_dirs={  # Remember to change this to match your filesystem!\n",
    "        \"eupeds_eth\": \"~/traj_dataset/eth-uty\",\n",
    "        \"eupeds_hotel\": \"~/traj_dataset/eth-uty\",\n",
    "    },\n",
    "    history_sec =(0.0,  0.0), \n",
    "    future_sec =(16.0,  16.0),\n",
    "    desired_dt=0.1,\n",
    ")"
   ]
  },
  {
   "cell_type": "code",
   "execution_count": 11,
   "id": "688582f1-0e9d-47a2-8237-76f4a7384e92",
   "metadata": {},
   "outputs": [],
   "source": [
    "dataloader = DataLoader(\n",
    "    dataset,\n",
    "    batch_size=1,\n",
    "    shuffle=True,\n",
    "    collate_fn=dataset.get_collate_fn(),\n",
    "    num_workers=os.cpu_count(), # This can be set to 0 for single-threaded loading, if desired.\n",
    ")"
   ]
  },
  {
   "cell_type": "code",
   "execution_count": 14,
   "id": "c05acac1-db46-4576-8b59-3055495631e7",
   "metadata": {},
   "outputs": [
    {
     "data": {
      "text/plain": [
       "50.296484375"
      ]
     },
     "execution_count": 14,
     "metadata": {},
     "output_type": "execute_result"
    }
   ],
   "source": [
    "len(dataloader)/64*1.5/60"
   ]
  },
  {
   "cell_type": "code",
   "execution_count": 15,
   "id": "8e66f485-b413-481a-9200-321be0bdfa91",
   "metadata": {},
   "outputs": [
    {
     "ename": "TypeError",
     "evalue": "'DataLoader' object is not subscriptable",
     "output_type": "error",
     "traceback": [
      "\u001b[0;31m---------------------------------------------------------------------------\u001b[0m",
      "\u001b[0;31mTypeError\u001b[0m                                 Traceback (most recent call last)",
      "Cell \u001b[0;32mIn[15], line 1\u001b[0m\n\u001b[0;32m----> 1\u001b[0m \u001b[43mdataloader\u001b[49m\u001b[43m[\u001b[49m\u001b[38;5;241;43m0\u001b[39;49m\u001b[43m]\u001b[49m\n",
      "\u001b[0;31mTypeError\u001b[0m: 'DataLoader' object is not subscriptable"
     ]
    }
   ],
   "source": []
  },
  {
   "cell_type": "code",
   "execution_count": 8,
   "id": "e4af9514-8f4c-4ece-8ed0-234a85a0b41e",
   "metadata": {},
   "outputs": [
    {
     "name": "stdout",
     "output_type": "stream",
     "text": [
      "100\n"
     ]
    }
   ],
   "source": [
    "max_x = 0\n",
    "min_x = 0\n",
    "max_y = 0\n",
    "min_y = 0\n",
    "t = 0\n",
    "for batch in dataloader:\n",
    "    # Train/evaluate/etc.\n",
    "    if batch.agent_hist.as_format('x').max() >0:\n",
    "        ipdb.set_trace()\n",
    "\n",
    "    t += 1\n",
    "    if t % 100 == 0:\n",
    "        print(t)\n",
    "        break"
   ]
  },
  {
   "cell_type": "code",
   "execution_count": 117,
   "id": "dbee2d29-f36d-4223-aa37-245130cf28c8",
   "metadata": {
    "scrolled": true
   },
   "outputs": [
    {
     "name": "stdout",
     "output_type": "stream",
     "text": [
      "torch.Size([1, 79, 8])\n",
      "torch.Size([1, 81, 8])\n",
      "torch.Size([1, 79, 8])\n",
      "torch.Size([1, 81, 8])\n",
      "torch.Size([1, 79, 8])\n",
      "torch.Size([1, 81, 8])\n",
      "torch.Size([1, 79, 8])\n",
      "torch.Size([1, 81, 8])\n",
      "torch.Size([1, 79, 8])\n",
      "torch.Size([1, 81, 8])\n",
      "torch.Size([1, 79, 8])\n",
      "torch.Size([1, 81, 8])\n",
      "torch.Size([1, 79, 8])\n",
      "torch.Size([1, 81, 8])\n",
      "torch.Size([1, 79, 8])\n",
      "torch.Size([1, 81, 8])\n",
      "torch.Size([1, 79, 8])\n",
      "torch.Size([1, 81, 8])\n",
      "torch.Size([1, 79, 8])\n",
      "torch.Size([1, 81, 8])\n",
      "torch.Size([1, 79, 8])\n",
      "torch.Size([1, 81, 8])\n",
      "torch.Size([1, 79, 8])\n",
      "torch.Size([1, 81, 8])\n",
      "torch.Size([1, 79, 8])\n",
      "torch.Size([1, 81, 8])\n",
      "torch.Size([1, 79, 8])\n",
      "torch.Size([1, 81, 8])\n",
      "torch.Size([1, 79, 8])\n",
      "torch.Size([1, 81, 8])\n",
      "torch.Size([1, 79, 8])\n",
      "torch.Size([1, 81, 8])\n",
      "torch.Size([1, 79, 8])\n",
      "torch.Size([1, 81, 8])\n",
      "torch.Size([1, 79, 8])\n",
      "torch.Size([1, 81, 8])\n",
      "torch.Size([1, 79, 8])\n",
      "torch.Size([1, 81, 8])\n",
      "torch.Size([1, 79, 8])\n",
      "torch.Size([1, 81, 8])\n",
      "torch.Size([1, 79, 8])\n",
      "torch.Size([1, 81, 8])\n",
      "torch.Size([1, 79, 8])\n",
      "torch.Size([1, 81, 8])\n",
      "torch.Size([1, 79, 8])\n",
      "torch.Size([1, 81, 8])\n",
      "torch.Size([1, 79, 8])\n",
      "torch.Size([1, 81, 8])\n",
      "torch.Size([1, 79, 8])\n",
      "torch.Size([1, 81, 8])\n",
      "torch.Size([1, 79, 8])\n",
      "torch.Size([1, 81, 8])\n",
      "torch.Size([1, 79, 8])\n",
      "torch.Size([1, 81, 8])\n",
      "torch.Size([1, 79, 8])\n",
      "torch.Size([1, 81, 8])\n",
      "torch.Size([1, 79, 8])\n",
      "torch.Size([1, 81, 8])\n",
      "torch.Size([1, 79, 8])\n",
      "torch.Size([1, 81, 8])\n",
      "torch.Size([1, 79, 8])\n",
      "torch.Size([1, 81, 8])\n",
      "torch.Size([1, 79, 8])\n",
      "torch.Size([1, 81, 8])\n",
      "torch.Size([1, 79, 8])\n",
      "torch.Size([1, 81, 8])\n",
      "torch.Size([1, 79, 8])\n",
      "torch.Size([1, 81, 8])\n",
      "torch.Size([1, 79, 8])\n",
      "torch.Size([1, 81, 8])\n",
      "torch.Size([1, 79, 8])\n",
      "torch.Size([1, 81, 8])\n",
      "torch.Size([1, 79, 8])\n",
      "torch.Size([1, 81, 8])\n",
      "torch.Size([1, 79, 8])\n",
      "torch.Size([1, 81, 8])\n",
      "torch.Size([1, 79, 8])\n",
      "torch.Size([1, 81, 8])\n",
      "torch.Size([1, 79, 8])\n",
      "torch.Size([1, 81, 8])\n",
      "torch.Size([1, 79, 8])\n",
      "torch.Size([1, 81, 8])\n",
      "torch.Size([1, 79, 8])\n",
      "torch.Size([1, 81, 8])\n",
      "torch.Size([1, 79, 8])\n",
      "torch.Size([1, 81, 8])\n",
      "torch.Size([1, 79, 8])\n",
      "torch.Size([1, 81, 8])\n",
      "torch.Size([1, 79, 8])\n",
      "torch.Size([1, 81, 8])\n",
      "torch.Size([1, 79, 8])\n",
      "torch.Size([1, 81, 8])\n",
      "torch.Size([1, 79, 8])\n",
      "torch.Size([1, 81, 8])\n",
      "torch.Size([1, 79, 8])\n",
      "torch.Size([1, 81, 8])\n",
      "torch.Size([1, 79, 8])\n",
      "torch.Size([1, 81, 8])\n",
      "torch.Size([1, 79, 8])\n",
      "torch.Size([1, 81, 8])\n",
      "torch.Size([1, 79, 8])\n",
      "torch.Size([1, 81, 8])\n",
      "torch.Size([1, 79, 8])\n",
      "torch.Size([1, 81, 8])\n",
      "torch.Size([1, 79, 8])\n",
      "torch.Size([1, 81, 8])\n",
      "torch.Size([1, 79, 8])\n",
      "torch.Size([1, 81, 8])\n",
      "torch.Size([1, 79, 8])\n",
      "torch.Size([1, 81, 8])\n",
      "torch.Size([1, 79, 8])\n",
      "torch.Size([1, 81, 8])\n",
      "torch.Size([1, 79, 8])\n",
      "torch.Size([1, 81, 8])\n",
      "torch.Size([1, 79, 8])\n",
      "torch.Size([1, 81, 8])\n",
      "torch.Size([1, 79, 8])\n",
      "torch.Size([1, 81, 8])\n",
      "torch.Size([1, 79, 8])\n",
      "torch.Size([1, 81, 8])\n",
      "torch.Size([1, 79, 8])\n",
      "torch.Size([1, 81, 8])\n",
      "torch.Size([1, 79, 8])\n",
      "torch.Size([1, 81, 8])\n",
      "torch.Size([1, 79, 8])\n",
      "torch.Size([1, 81, 8])\n",
      "torch.Size([1, 79, 8])\n",
      "torch.Size([1, 81, 8])\n",
      "torch.Size([1, 79, 8])\n",
      "torch.Size([1, 81, 8])\n",
      "torch.Size([1, 79, 8])\n",
      "torch.Size([1, 81, 8])\n",
      "torch.Size([1, 79, 8])\n",
      "torch.Size([1, 81, 8])\n",
      "torch.Size([1, 79, 8])\n",
      "torch.Size([1, 81, 8])\n",
      "torch.Size([1, 79, 8])\n",
      "torch.Size([1, 81, 8])\n",
      "torch.Size([1, 79, 8])\n",
      "torch.Size([1, 81, 8])\n",
      "torch.Size([1, 79, 8])\n",
      "torch.Size([1, 81, 8])\n",
      "torch.Size([1, 79, 8])\n",
      "torch.Size([1, 81, 8])\n",
      "torch.Size([1, 79, 8])\n",
      "torch.Size([1, 81, 8])\n",
      "torch.Size([1, 79, 8])\n",
      "torch.Size([1, 81, 8])\n",
      "torch.Size([1, 79, 8])\n",
      "torch.Size([1, 81, 8])\n",
      "torch.Size([1, 79, 8])\n",
      "torch.Size([1, 81, 8])\n",
      "torch.Size([1, 79, 8])\n",
      "torch.Size([1, 81, 8])\n",
      "torch.Size([1, 79, 8])\n",
      "torch.Size([1, 81, 8])\n",
      "torch.Size([1, 79, 8])\n",
      "torch.Size([1, 81, 8])\n",
      "torch.Size([1, 79, 8])\n",
      "torch.Size([1, 81, 8])\n",
      "torch.Size([1, 79, 8])\n",
      "torch.Size([1, 81, 8])\n",
      "torch.Size([1, 79, 8])\n",
      "torch.Size([1, 81, 8])\n",
      "torch.Size([1, 79, 8])\n",
      "torch.Size([1, 81, 8])\n",
      "torch.Size([1, 79, 8])\n",
      "torch.Size([1, 81, 8])\n",
      "torch.Size([1, 79, 8])\n",
      "torch.Size([1, 81, 8])\n",
      "torch.Size([1, 79, 8])\n",
      "torch.Size([1, 81, 8])\n",
      "torch.Size([1, 79, 8])\n",
      "torch.Size([1, 81, 8])\n",
      "torch.Size([1, 79, 8])\n",
      "torch.Size([1, 81, 8])\n",
      "torch.Size([1, 79, 8])\n",
      "torch.Size([1, 81, 8])\n",
      "torch.Size([1, 79, 8])\n",
      "torch.Size([1, 81, 8])\n",
      "torch.Size([1, 79, 8])\n",
      "torch.Size([1, 81, 8])\n",
      "torch.Size([1, 79, 8])\n",
      "torch.Size([1, 81, 8])\n",
      "torch.Size([1, 79, 8])\n",
      "torch.Size([1, 81, 8])\n",
      "torch.Size([1, 79, 8])\n",
      "torch.Size([1, 81, 8])\n",
      "torch.Size([1, 79, 8])\n",
      "torch.Size([1, 81, 8])\n",
      "torch.Size([1, 79, 8])\n",
      "torch.Size([1, 81, 8])\n",
      "torch.Size([1, 79, 8])\n",
      "torch.Size([1, 81, 8])\n",
      "torch.Size([1, 79, 8])\n",
      "torch.Size([1, 81, 8])\n",
      "torch.Size([1, 79, 8])\n",
      "torch.Size([1, 81, 8])\n",
      "100\n"
     ]
    }
   ],
   "source": [
    "max_x = 0\n",
    "min_x = 0\n",
    "max_y = 0\n",
    "min_y = 0\n",
    "t = 0\n",
    "for batch in dataloader:\n",
    "    # Train/evaluate/etc.\n",
    "    if batch.curr_agent_state.as_format('x').max() > max_x:\n",
    "        max_x = batch.curr_agent_state.as_format('x').max()\n",
    "    if batch.curr_agent_state.as_format('x').min() < min_x:\n",
    "        min_x = batch.curr_agent_state.as_format('x').min()\n",
    "    if batch.curr_agent_state.as_format('y').max() > max_y:\n",
    "        max_y = batch.curr_agent_state.as_format('y').max()\n",
    "    if batch.curr_agent_state.as_format('y').min() < min_y:\n",
    "        min_y = batch.curr_agent_state.as_format('y').min()\n",
    "    t += 1\n",
    "    if t % 100 == 0:\n",
    "        print(t)\n",
    "        break\n",
    "    print(batch.agent_fut.shape)\n",
    "    print(batch.agent_hist.shape)"
   ]
  },
  {
   "cell_type": "code",
   "execution_count": 13,
   "id": "f9bd8582-22f5-40d5-a7a2-69dda8672195",
   "metadata": {},
   "outputs": [
    {
     "data": {
      "text/plain": [
       "torch.Size([1, 1, 2])"
      ]
     },
     "execution_count": 13,
     "metadata": {},
     "output_type": "execute_result"
    }
   ],
   "source": [
    "batch.agent_hist.position.shape"
   ]
  },
  {
   "cell_type": "code",
   "execution_count": 10,
   "id": "84844f98-cca4-4802-b8eb-4ac126d5f604",
   "metadata": {},
   "outputs": [
    {
     "data": {
      "text/plain": [
       "StateTensorXYXdYdXddYddSC([[[0.0000e+00, 0.0000e+00, 3.9641e-01, 6.4157e-05,\n",
       "                             5.3906e-03, 1.0880e-01, 0.0000e+00, 1.0000e+00]]])"
      ]
     },
     "execution_count": 10,
     "metadata": {},
     "output_type": "execute_result"
    }
   ],
   "source": [
    "batch.agent_hist"
   ]
  },
  {
   "cell_type": "code",
   "execution_count": 48,
   "id": "7fb593bf-0b86-4bf7-9eb5-e925916b3654",
   "metadata": {},
   "outputs": [
    {
     "data": {
      "text/plain": [
       "tensor(-5.2300)"
      ]
     },
     "execution_count": 48,
     "metadata": {},
     "output_type": "execute_result"
    }
   ],
   "source": [
    "min_x"
   ]
  },
  {
   "cell_type": "code",
   "execution_count": 49,
   "id": "82dcbc61-66be-4a7a-8837-4cb39aecd3f3",
   "metadata": {},
   "outputs": [
    {
     "data": {
      "text/plain": [
       "tensor(13.7468)"
      ]
     },
     "execution_count": 49,
     "metadata": {},
     "output_type": "execute_result"
    }
   ],
   "source": [
    "max_y"
   ]
  },
  {
   "cell_type": "code",
   "execution_count": 50,
   "id": "5a76e4c8-0640-4fec-8ba0-b3dc2de597a8",
   "metadata": {},
   "outputs": [
    {
     "data": {
      "text/plain": [
       "tensor(-9.3600)"
      ]
     },
     "execution_count": 50,
     "metadata": {},
     "output_type": "execute_result"
    }
   ],
   "source": [
    "min_y"
   ]
  },
  {
   "cell_type": "code",
   "execution_count": 11,
   "id": "f7e1e7a0-3367-4bcf-af79-647441ff8b70",
   "metadata": {},
   "outputs": [
    {
     "data": {
      "text/plain": [
       "382163"
      ]
     },
     "execution_count": 11,
     "metadata": {},
     "output_type": "execute_result"
    }
   ],
   "source": [
    "len(dataloader)"
   ]
  },
  {
   "cell_type": "code",
   "execution_count": 107,
   "id": "46b35f14-1c6d-41a2-b6b3-048f3c4bd69f",
   "metadata": {},
   "outputs": [
    {
     "name": "stderr",
     "output_type": "stream",
     "text": [
      "/tmp/ipykernel_53824/895454398.py:1: UserWarning: To copy construct from a tensor, it is recommended to use sourceTensor.clone().detach() or sourceTensor.clone().detach().requires_grad_(True), rather than torch.tensor(sourceTensor).\n",
      "  torch.cat((torch.tensor(batch.agent_hist.position), torch.tensor(batch.agent_fut.position)), axis=1).shape\n"
     ]
    },
    {
     "data": {
      "text/plain": [
       "torch.Size([1, 161, 2])"
      ]
     },
     "execution_count": 107,
     "metadata": {},
     "output_type": "execute_result"
    }
   ],
   "source": [
    "torch.cat((torch.tensor(batch.agent_hist.position), torch.tensor(batch.agent_fut.position)), axis=1).shape"
   ]
  },
  {
   "cell_type": "code",
   "execution_count": 109,
   "id": "21895637-6bbd-4ce9-95e0-20e0cf6bb8ae",
   "metadata": {},
   "outputs": [
    {
     "data": {
      "text/plain": [
       "torch.Size([1, 161, 2])"
      ]
     },
     "execution_count": 109,
     "metadata": {},
     "output_type": "execute_result"
    }
   ],
   "source": [
    "torch.cat((batch.agent_hist.position, batch.agent_fut.position), axis=1).shape"
   ]
  },
  {
   "cell_type": "code",
   "execution_count": 110,
   "id": "9239d457-f779-4a3a-93fd-fdf9068a4e30",
   "metadata": {},
   "outputs": [],
   "source": [
    "a = torch.randn((2,5,10))"
   ]
  },
  {
   "cell_type": "code",
   "execution_count": 111,
   "id": "55a9ed7a-4e2e-465f-b07f-29f80e52fa7d",
   "metadata": {},
   "outputs": [
    {
     "data": {
      "text/plain": [
       "tensor([[[ 0.5656, -1.1839, -0.0716, -0.5042, -1.9545, -0.0811,  0.8550,\n",
       "          -0.2057,  1.3934,  0.3772],\n",
       "         [-0.7670, -0.4348,  1.1506, -0.9874,  1.6011, -0.0511, -0.8246,\n",
       "           1.3236,  0.9382,  1.3057],\n",
       "         [-0.7402,  0.1836, -1.7179,  0.1425, -1.0259,  0.3338, -0.4707,\n",
       "          -1.0478,  0.7299,  0.4507],\n",
       "         [-0.3503,  0.3819, -1.0666, -1.1989,  0.2590,  0.2698,  0.2141,\n",
       "           0.9467,  0.2500,  0.5116],\n",
       "         [ 0.1227, -0.2573, -0.3279, -1.2711, -0.2740,  0.8224, -0.5437,\n",
       "           0.7936, -0.3618, -0.9252]],\n",
       "\n",
       "        [[ 0.2623, -2.0719,  0.6989,  0.3484, -0.2851,  1.0836, -1.8579,\n",
       "          -1.3431, -1.5052, -0.9689],\n",
       "         [-0.4346,  0.7054,  0.2558, -0.5692,  0.2654, -0.2746,  0.7171,\n",
       "           0.6940,  0.5306,  1.4325],\n",
       "         [ 0.1956,  2.5994,  0.5641, -0.2208,  0.2462,  2.2225,  0.9055,\n",
       "           0.9290, -1.2071,  0.2435],\n",
       "         [-0.8684, -0.6133, -0.0110, -0.2822,  0.5316, -0.9986, -0.0484,\n",
       "          -0.2440, -0.4136, -1.3837],\n",
       "         [-0.8453,  0.4618,  0.7562,  1.1781,  0.6165, -0.9851, -0.9178,\n",
       "          -0.2914, -1.3322, -1.0350]]])"
      ]
     },
     "execution_count": 111,
     "metadata": {},
     "output_type": "execute_result"
    }
   ],
   "source": [
    "a"
   ]
  },
  {
   "cell_type": "code",
   "execution_count": 112,
   "id": "03c11bc9-f6be-4ae8-8aaf-00432a070fbd",
   "metadata": {},
   "outputs": [
    {
     "data": {
      "text/plain": [
       "tensor([[[ 0.5656,  0.3772],\n",
       "         [-0.7670,  1.3057],\n",
       "         [-0.7402,  0.4507],\n",
       "         [-0.3503,  0.5116],\n",
       "         [ 0.1227, -0.9252]],\n",
       "\n",
       "        [[ 0.2623, -0.9689],\n",
       "         [-0.4346,  1.4325],\n",
       "         [ 0.1956,  0.2435],\n",
       "         [-0.8684, -1.3837],\n",
       "         [-0.8453, -1.0350]]])"
      ]
     },
     "execution_count": 112,
     "metadata": {},
     "output_type": "execute_result"
    }
   ],
   "source": [
    "a[:,:,(0,9)]"
   ]
  },
  {
   "cell_type": "code",
   "execution_count": null,
   "id": "4ebef2b8-dd76-43c9-addf-5b9d1f4186dd",
   "metadata": {},
   "outputs": [],
   "source": []
  }
 ],
 "metadata": {
  "kernelspec": {
   "display_name": "Python 3 (ipykernel)",
   "language": "python",
   "name": "python3"
  },
  "language_info": {
   "codemirror_mode": {
    "name": "ipython",
    "version": 3
   },
   "file_extension": ".py",
   "mimetype": "text/x-python",
   "name": "python",
   "nbconvert_exporter": "python",
   "pygments_lexer": "ipython3",
   "version": "3.8.3"
  }
 },
 "nbformat": 4,
 "nbformat_minor": 5
}
