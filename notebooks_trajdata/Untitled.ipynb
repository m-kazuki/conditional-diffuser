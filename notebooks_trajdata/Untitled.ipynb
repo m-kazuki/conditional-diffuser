{
 "cells": [
  {
   "cell_type": "code",
   "execution_count": 1,
   "id": "41add6aa-a0d8-489d-a6aa-47af92915507",
   "metadata": {},
   "outputs": [],
   "source": [
    "import torch"
   ]
  },
  {
   "cell_type": "code",
   "execution_count": 2,
   "id": "374d5068-4700-4b20-99a6-0dd001198164",
   "metadata": {},
   "outputs": [],
   "source": [
    "a = torch.tensor([1,2,3,4,5,6,7,8])"
   ]
  },
  {
   "cell_type": "code",
   "execution_count": 3,
   "id": "0994fc91-d342-43bf-a7ff-638786d62837",
   "metadata": {},
   "outputs": [
    {
     "data": {
      "text/plain": [
       "torch.Size([8])"
      ]
     },
     "execution_count": 3,
     "metadata": {},
     "output_type": "execute_result"
    }
   ],
   "source": [
    "a.shape"
   ]
  },
  {
   "cell_type": "code",
   "execution_count": 6,
   "id": "2edd47c7-c37a-4b3b-bb80-28e37855f742",
   "metadata": {},
   "outputs": [
    {
     "ename": "TypeError",
     "evalue": "view() received an invalid combination of arguments - got (tuple, order=str), but expected one of:\n * (torch.dtype dtype)\n * (tuple of ints size)\n",
     "output_type": "error",
     "traceback": [
      "\u001b[0;31m---------------------------------------------------------------------------\u001b[0m",
      "\u001b[0;31mTypeError\u001b[0m                                 Traceback (most recent call last)",
      "Cell \u001b[0;32mIn[6], line 1\u001b[0m\n\u001b[0;32m----> 1\u001b[0m b \u001b[38;5;241m=\u001b[39m \u001b[43ma\u001b[49m\u001b[38;5;241;43m.\u001b[39;49m\u001b[43mview\u001b[49m\u001b[43m(\u001b[49m\u001b[43m(\u001b[49m\u001b[38;5;241;43m1\u001b[39;49m\u001b[43m,\u001b[49m\u001b[38;5;241;43m2\u001b[39;49m\u001b[43m,\u001b[49m\u001b[38;5;241;43m4\u001b[39;49m\u001b[43m)\u001b[49m\u001b[43m,\u001b[49m\u001b[43m \u001b[49m\u001b[43morder\u001b[49m\u001b[38;5;241;43m=\u001b[39;49m\u001b[38;5;124;43m'\u001b[39;49m\u001b[38;5;124;43mF\u001b[39;49m\u001b[38;5;124;43m'\u001b[39;49m\u001b[43m)\u001b[49m\n",
      "\u001b[0;31mTypeError\u001b[0m: view() received an invalid combination of arguments - got (tuple, order=str), but expected one of:\n * (torch.dtype dtype)\n * (tuple of ints size)\n"
     ]
    }
   ],
   "source": [
    "b = a.view((1,2,4), order='F')"
   ]
  },
  {
   "cell_type": "code",
   "execution_count": 8,
   "id": "abe67873-27b8-48d0-9385-a5fc6f456ceb",
   "metadata": {},
   "outputs": [
    {
     "name": "stdout",
     "output_type": "stream",
     "text": [
      "tensor([[0, 1, 2],\n",
      "        [3, 4, 5]])\n"
     ]
    }
   ],
   "source": [
    "import torch\n",
    "\n",
    "original_list = [0, 1, 2, 3, 4, 5]\n",
    "\n",
    "# 新しい形状\n",
    "new_shape = (2, 3)\n",
    "\n",
    "# PyTorchテンソルに変換してからreshape\n",
    "reshaped_tensor = torch.tensor(original_list).view(new_shape)\n",
    "\n",
    "print(reshaped_tensor)"
   ]
  },
  {
   "cell_type": "code",
   "execution_count": 10,
   "id": "965c1c77-8925-4677-88c5-f1e108b6eb64",
   "metadata": {},
   "outputs": [
    {
     "name": "stdout",
     "output_type": "stream",
     "text": [
      "tensor([[[0, 2, 4],\n",
      "         [1, 3, 5]]])\n"
     ]
    }
   ],
   "source": [
    "import torch\n",
    "\n",
    "original_list = [0, 1, 2, 3, 4, 5]\n",
    "\n",
    "# 新しい形状\n",
    "new_shape = (2, 3)\n",
    "\n",
    "# PyTorchテンソルに変換してからreshape\n",
    "reshaped_tensor = torch.tensor(original_list).reshape(1,3,2)\n",
    "reshaped_tensor = reshaped_tensor.transpose(1,2)\n",
    "print(reshaped_tensor)"
   ]
  },
  {
   "cell_type": "code",
   "execution_count": null,
   "id": "0aeb9abf-b955-4a6d-b734-0f664c0bf0f1",
   "metadata": {},
   "outputs": [],
   "source": []
  }
 ],
 "metadata": {
  "kernelspec": {
   "display_name": "Python 3 (ipykernel)",
   "language": "python",
   "name": "python3"
  },
  "language_info": {
   "codemirror_mode": {
    "name": "ipython",
    "version": 3
   },
   "file_extension": ".py",
   "mimetype": "text/x-python",
   "name": "python",
   "nbconvert_exporter": "python",
   "pygments_lexer": "ipython3",
   "version": "3.8.3"
  }
 },
 "nbformat": 4,
 "nbformat_minor": 5
}
