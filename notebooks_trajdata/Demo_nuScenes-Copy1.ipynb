{
 "cells": [
  {
   "cell_type": "code",
   "execution_count": 4,
   "id": "95213bb4-de85-4061-aab9-89b92a31f2a5",
   "metadata": {},
   "outputs": [],
   "source": [
    "import os\n",
    "from torch.utils.data import DataLoader\n",
    "from trajdata import AgentBatch, UnifiedDataset\n",
    "import ipdb"
   ]
  },
  {
   "cell_type": "code",
   "execution_count": 3,
   "id": "3ac1180d-e230-4e36-a9f2-2968fff91c8d",
   "metadata": {},
   "outputs": [
    {
     "name": "stdout",
     "output_type": "stream",
     "text": [
      "======\n",
      "Loading NuScenes tables for version v1.0-mini...\n",
      "23 category,\n",
      "8 attribute,\n",
      "4 visibility,\n",
      "911 instance,\n",
      "12 sensor,\n",
      "120 calibrated_sensor,\n",
      "31206 ego_pose,\n",
      "8 log,\n",
      "10 scene,\n",
      "404 sample,\n",
      "31206 sample_data,\n",
      "18538 sample_annotation,\n",
      "4 map,\n",
      "Done loading in 0.238 seconds.\n",
      "======\n",
      "Reverse indexing ...\n",
      "Done reverse indexing in 0.0 seconds.\n",
      "======\n"
     ]
    },
    {
     "name": "stderr",
     "output_type": "stream",
     "text": [
      "Caching nusc_mini Maps at 2.00 px/m:   0%|                | 0/4 [00:00<?, ?it/s]\n",
      "Getting singapore-onenorth Elements:   0%|             | 0/2961 [00:00<?, ?it/s]\u001b[A\n",
      "Getting singapore-onenorth Elements:  13%|▏| 399/2961 [00:00<00:00, 3988.33it/s]\u001b[A\n",
      "Getting singapore-onenorth Elements:  27%|▎| 806/2961 [00:00<00:00, 4033.96it/s]\u001b[A\n",
      "Getting singapore-onenorth Elements:  50%|▌| 1484/2961 [00:00<00:00, 5287.16it/s\u001b[A\n",
      "Caching nusc_mini Maps at 2.00 px/m:  25%|██      | 1/4 [00:00<00:02,  1.24it/s]\u001b[A\n",
      "Getting singapore-hollandvillage Elements:   0%|       | 0/2272 [00:00<?, ?it/s]\u001b[A\n",
      "Getting singapore-hollandvillage Elements:  17%|▏| 379/2272 [00:00<00:00, 3785.0\u001b[A\n",
      "Getting singapore-hollandvillage Elements:  43%|▍| 977/2272 [00:00<00:00, 5074.8\u001b[A\n",
      "Caching nusc_mini Maps at 2.00 px/m:  50%|████    | 2/4 [00:01<00:01,  1.42it/s]\u001b[A\n",
      "Getting singapore-queenstown Elements:   0%|           | 0/2834 [00:00<?, ?it/s]\u001b[A\n",
      "Getting singapore-queenstown Elements:  15%|▏| 429/2834 [00:00<00:00, 4286.65it/\u001b[A\n",
      "Getting singapore-queenstown Elements:  30%|▎| 858/2834 [00:00<00:00, 4279.05it/\u001b[A\n",
      "Getting singapore-queenstown Elements:  59%|▌| 1667/2834 [00:00<00:00, 6015.60it\u001b[A\n",
      "Caching nusc_mini Maps at 2.00 px/m:  75%|██████  | 3/4 [00:02<00:00,  1.26it/s]\u001b[A\n",
      "Getting boston-seaport Elements:   0%|                 | 0/3489 [00:00<?, ?it/s]\u001b[A\n",
      "Getting boston-seaport Elements:  13%|▋    | 440/3489 [00:00<00:00, 4394.47it/s]\u001b[A\n",
      "Getting boston-seaport Elements:  25%|█▎   | 880/3489 [00:00<00:00, 4363.34it/s]\u001b[A\n",
      "Getting boston-seaport Elements:  40%|█▌  | 1392/3489 [00:00<00:00, 4703.82it/s]\u001b[A\n",
      "Getting boston-seaport Elements:  64%|██▌ | 2219/3489 [00:00<00:00, 6105.49it/s]\u001b[A\n",
      "Caching nusc_mini Maps at 2.00 px/m: 100%|████████| 4/4 [00:03<00:00,  1.17it/s]\u001b[A\n"
     ]
    }
   ],
   "source": [
    "# See below for a list of already-supported datasets and splits.\n",
    "dataset = UnifiedDataset(\n",
    "    desired_data=[\"nusc_mini\"],\n",
    "    data_dirs={  # Remember to change this to match your filesystem!\n",
    "        \"nusc_mini\": \"~/traj_dataset/nuScenes\"\n",
    "    },\n",
    ")"
   ]
  },
  {
   "cell_type": "code",
   "execution_count": 6,
   "id": "688582f1-0e9d-47a2-8237-76f4a7384e92",
   "metadata": {},
   "outputs": [],
   "source": [
    "dataloader = DataLoader(\n",
    "    dataset,\n",
    "    batch_size=64,\n",
    "    shuffle=True,\n",
    "    collate_fn=dataset.get_collate_fn(),\n",
    "    num_workers=os.cpu_count(), # This can be set to 0 for single-threaded loading, if desired.\n",
    ")"
   ]
  },
  {
   "cell_type": "code",
   "execution_count": null,
   "id": "34d565bf-da03-42d1-bea7-ac72e879880e",
   "metadata": {},
   "outputs": [],
   "source": [
    "batch: AgentBatch\n",
    "for batch in dataloader:\n",
    "    # Train/evaluate/etc.\n",
    "    ipdb.set_trace()\n",
    "    pass"
   ]
  },
  {
   "cell_type": "code",
   "execution_count": null,
   "id": "60a91d61-d15c-49f2-979b-73935e5120eb",
   "metadata": {},
   "outputs": [],
   "source": [
    "    "
   ]
  }
 ],
 "metadata": {
  "kernelspec": {
   "display_name": "Python 3 (ipykernel)",
   "language": "python",
   "name": "python3"
  },
  "language_info": {
   "codemirror_mode": {
    "name": "ipython",
    "version": 3
   },
   "file_extension": ".py",
   "mimetype": "text/x-python",
   "name": "python",
   "nbconvert_exporter": "python",
   "pygments_lexer": "ipython3",
   "version": "3.8.3"
  }
 },
 "nbformat": 4,
 "nbformat_minor": 5
}
