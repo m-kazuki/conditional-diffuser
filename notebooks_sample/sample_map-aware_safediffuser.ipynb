{
 "cells": [
  {
   "cell_type": "code",
   "execution_count": 1,
   "id": "e897cb77-8bf1-437c-8ca9-60c5f253b556",
   "metadata": {},
   "outputs": [
    {
     "name": "stderr",
     "output_type": "stream",
     "text": [
      "pybullet build time: May 20 2022 19:44:17\n"
     ]
    }
   ],
   "source": [
    "import os\n",
    "import copy\n",
    "import numpy as np\n",
    "import torch\n",
    "import einops\n",
    "import pdb\n",
    "import ipdb\n",
    "from diffuser.utils.arrays import batch_to_device, to_np, to_device, apply_dict\n",
    "from IPython.display import clear_output\n",
    "import time"
   ]
  },
  {
   "cell_type": "code",
   "execution_count": 2,
   "id": "fc3a1a1f-45f5-43b8-820c-671f4856a5b8",
   "metadata": {},
   "outputs": [],
   "source": [
    "import diffuser.utils as utils"
   ]
  },
  {
   "cell_type": "code",
   "execution_count": 3,
   "id": "fd6ae613-c769-4eae-900a-27240ffcc021",
   "metadata": {},
   "outputs": [],
   "source": [
    "diffusion = utils.load_diffusion('../logs', \n",
    "                                 'maze2d-large-v1', \n",
    "                                 'diffusion/H384_T256_20231031-1406', \n",
    "                                 epoch='latest')\n",
    "clear_output()"
   ]
  },
  {
   "cell_type": "code",
   "execution_count": 4,
   "id": "c4407929-5765-42f1-81f8-3f22e64baa78",
   "metadata": {},
   "outputs": [
    {
     "name": "stdout",
     "output_type": "stream",
     "text": [
      "> \u001b[0;32m/home/kazuki/diffuser/diffuser/models/diffusion.py\u001b[0m(138)\u001b[0;36mp_sample\u001b[0;34m()\u001b[0m\n",
      "\u001b[0;32m    137 \u001b[0;31m        \u001b[0mipdb\u001b[0m\u001b[0;34m.\u001b[0m\u001b[0mset_trace\u001b[0m\u001b[0;34m(\u001b[0m\u001b[0;34m)\u001b[0m\u001b[0;34m\u001b[0m\u001b[0;34m\u001b[0m\u001b[0m\n",
      "\u001b[0m\u001b[0;32m--> 138 \u001b[0;31m        \u001b[0mnonzero_mask\u001b[0m \u001b[0;34m=\u001b[0m \u001b[0;34m(\u001b[0m\u001b[0;36m1\u001b[0m \u001b[0;34m-\u001b[0m \u001b[0;34m(\u001b[0m\u001b[0mt\u001b[0m \u001b[0;34m==\u001b[0m \u001b[0;36m0\u001b[0m\u001b[0;34m)\u001b[0m\u001b[0;34m.\u001b[0m\u001b[0mfloat\u001b[0m\u001b[0;34m(\u001b[0m\u001b[0;34m)\u001b[0m\u001b[0;34m)\u001b[0m\u001b[0;34m.\u001b[0m\u001b[0mreshape\u001b[0m\u001b[0;34m(\u001b[0m\u001b[0mb\u001b[0m\u001b[0;34m,\u001b[0m \u001b[0;34m*\u001b[0m\u001b[0;34m(\u001b[0m\u001b[0;34m(\u001b[0m\u001b[0;36m1\u001b[0m\u001b[0;34m,\u001b[0m\u001b[0;34m)\u001b[0m \u001b[0;34m*\u001b[0m \u001b[0;34m(\u001b[0m\u001b[0mlen\u001b[0m\u001b[0;34m(\u001b[0m\u001b[0mx\u001b[0m\u001b[0;34m.\u001b[0m\u001b[0mshape\u001b[0m\u001b[0;34m)\u001b[0m \u001b[0;34m-\u001b[0m \u001b[0;36m1\u001b[0m\u001b[0;34m)\u001b[0m\u001b[0;34m)\u001b[0m\u001b[0;34m)\u001b[0m\u001b[0;34m\u001b[0m\u001b[0;34m\u001b[0m\u001b[0m\n",
      "\u001b[0m\u001b[0;32m    139 \u001b[0;31m        \u001b[0;32mreturn\u001b[0m \u001b[0mmodel_mean\u001b[0m \u001b[0;34m+\u001b[0m \u001b[0mnonzero_mask\u001b[0m \u001b[0;34m*\u001b[0m \u001b[0;34m(\u001b[0m\u001b[0;36m0.5\u001b[0m \u001b[0;34m*\u001b[0m \u001b[0mmodel_log_variance\u001b[0m\u001b[0;34m)\u001b[0m\u001b[0;34m.\u001b[0m\u001b[0mexp\u001b[0m\u001b[0;34m(\u001b[0m\u001b[0;34m)\u001b[0m \u001b[0;34m*\u001b[0m \u001b[0mnoise\u001b[0m\u001b[0;34m\u001b[0m\u001b[0;34m\u001b[0m\u001b[0m\n",
      "\u001b[0m\n"
     ]
    },
    {
     "name": "stdin",
     "output_type": "stream",
     "text": [
      "ipdb>  model_log_variance.shape\n"
     ]
    },
    {
     "name": "stdout",
     "output_type": "stream",
     "text": [
      "torch.Size([1, 1, 1])\n"
     ]
    },
    {
     "name": "stdin",
     "output_type": "stream",
     "text": [
      "ipdb>  model_mean\n"
     ]
    },
    {
     "name": "stdout",
     "output_type": "stream",
     "text": [
      "tensor([[[ 2.2158e-02,  1.0856e-03, -3.0380e-02, -3.1925e-02, -1.8810e-04,\n",
      "           7.1000e-05],\n",
      "         [-6.5287e-03,  2.7106e-02, -1.0700e-02,  1.1587e-02, -3.0737e-02,\n",
      "          -1.3338e-04],\n",
      "         [ 2.2998e-03, -1.1592e-02,  3.1000e-02, -3.2945e-02, -1.4529e-02,\n",
      "           2.5344e-02],\n",
      "         ...,\n",
      "         [ 1.7261e-02,  1.6202e-03,  5.3694e-04, -1.8089e-02,  5.8218e-02,\n",
      "          -2.7431e-02],\n",
      "         [ 1.7851e-02,  9.1052e-03,  2.1851e-02,  1.7245e-02,  7.7600e-05,\n",
      "          -2.3188e-02],\n",
      "         [ 2.3901e-02, -3.3216e-02,  3.4349e-02,  2.7491e-02, -4.2888e-04,\n",
      "          -5.2352e-05]]], device='cuda:0')\n"
     ]
    },
    {
     "name": "stdin",
     "output_type": "stream",
     "text": [
      "ipdb>  model_mean.shape\n"
     ]
    },
    {
     "name": "stdout",
     "output_type": "stream",
     "text": [
      "torch.Size([1, 384, 6])\n"
     ]
    },
    {
     "name": "stdin",
     "output_type": "stream",
     "text": [
      "ipdb>  q\n"
     ]
    }
   ],
   "source": [
    "cond = {0: [1, 1, 0, 0], 383: [7, 9, 0, 0]}\n",
    "\n",
    "cond = utils.apply_dict(\n",
    "    diffusion.dataset.normalizer.normalize,\n",
    "    cond,\n",
    "    'observations'\n",
    ")\n",
    "cond = utils.to_torch(cond, dtype=torch.float32, device='cuda:0')\n",
    "cond = utils.apply_dict(\n",
    "    einops.repeat,\n",
    "    cond,\n",
    "    'd -> repeat d', repeat=1,\n",
    ")\n",
    "\n",
    "obst_position = [2.3, 2, 0, 0]\n",
    "rad = 1\n",
    "\n",
    "tmp1 = [0, 0, 0, 0]\n",
    "tmp2 = [rad, rad, 0, 0]\n",
    "normed_obst = diffusion.dataset.normalizer.normalize(obst_position, 'observations')\n",
    "tmp1 = diffusion.dataset.normalizer.normalize(tmp1, 'observations')\n",
    "tmp2 = diffusion.dataset.normalizer.normalize(tmp2, 'observations')\n",
    "\n",
    "normed_rad = [(tmp2 - tmp1)[0], (tmp2 - tmp1)[1]]\n",
    "\n",
    "dtau = 1\n",
    "start = time.time()\n",
    "samples = diffusion.ema.cbf_sample_vec(cond, cx=normed_obst[0], cy=normed_obst[1], radius=normed_rad, dtau=dtau)\n",
    "end = time.time()\n",
    "print(end-start)\n",
    "samples = to_np(samples)\n",
    "normed_observations = samples[:, :, 2:]\n",
    "normed_conditions = to_np(cond[0])[:,None]\n",
    "normed_observations = np.concatenate([\n",
    "    np.repeat(normed_conditions, 1, axis=0),\n",
    "    normed_observations\n",
    "    ], axis=1)\n",
    "observations = diffusion.dataset.normalizer.unnormalize(normed_observations, 'observations')\n",
    "images = diffusion.renderer.composite('tmp.png', observations, ncol=1,\n",
    "                                      obst_pos=np.array(obst_position[:2]), obst_rad=rad)"
   ]
  },
  {
   "cell_type": "code",
   "execution_count": null,
   "id": "acea686c-206d-407a-801d-01cc65cea31e",
   "metadata": {},
   "outputs": [],
   "source": []
  }
 ],
 "metadata": {
  "kernelspec": {
   "display_name": "Python 3 (ipykernel)",
   "language": "python",
   "name": "python3"
  },
  "language_info": {
   "codemirror_mode": {
    "name": "ipython",
    "version": 3
   },
   "file_extension": ".py",
   "mimetype": "text/x-python",
   "name": "python",
   "nbconvert_exporter": "python",
   "pygments_lexer": "ipython3",
   "version": "3.8.3"
  }
 },
 "nbformat": 4,
 "nbformat_minor": 5
}
