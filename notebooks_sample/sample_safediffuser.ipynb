{
 "cells": [
  {
   "cell_type": "code",
   "execution_count": 1,
   "id": "e897cb77-8bf1-437c-8ca9-60c5f253b556",
   "metadata": {},
   "outputs": [
    {
     "name": "stderr",
     "output_type": "stream",
     "text": [
      "pybullet build time: May 20 2022 19:44:17\n"
     ]
    }
   ],
   "source": [
    "import os\n",
    "import copy\n",
    "import numpy as np\n",
    "import torch\n",
    "import einops\n",
    "import pdb\n",
    "import ipdb\n",
    "from diffuser.utils.arrays import batch_to_device, to_np, to_device, apply_dict\n",
    "from IPython.display import clear_output\n",
    "import time"
   ]
  },
  {
   "cell_type": "code",
   "execution_count": 2,
   "id": "fc3a1a1f-45f5-43b8-820c-671f4856a5b8",
   "metadata": {},
   "outputs": [],
   "source": [
    "import diffuser.utils as utils"
   ]
  },
  {
   "cell_type": "code",
   "execution_count": 3,
   "id": "fd6ae613-c769-4eae-900a-27240ffcc021",
   "metadata": {},
   "outputs": [],
   "source": [
    "diffusion = utils.load_diffusion('../logs', \n",
    "                                 'maze2d-large-v1', \n",
    "                                 'diffusion/H384_T256', \n",
    "                                 epoch='latest')\n",
    "clear_output()"
   ]
  },
  {
   "cell_type": "code",
   "execution_count": 5,
   "id": "c4407929-5765-42f1-81f8-3f22e64baa78",
   "metadata": {},
   "outputs": [
    {
     "name": "stdout",
     "output_type": "stream",
     "text": [
      "18.07260274887085\n",
      "Saved 1 samples to: tmp.png\n"
     ]
    },
    {
     "data": {
      "image/png": "[encoded data removed]",
      "text/plain": [
       "<Figure size 500x500 with 1 Axes>"
      ]
     },
     "metadata": {},
     "output_type": "display_data"
    }
   ],
   "source": [
    "cond = {0: [1, 1, 0, 0], 383: [7, 9, 0, 0]}\n",
    "\n",
    "cond = utils.apply_dict(\n",
    "    diffusion.dataset.normalizer.normalize,\n",
    "    cond,\n",
    "    'observations'\n",
    ")\n",
    "cond = utils.to_torch(cond, dtype=torch.float32, device='cuda:0')\n",
    "cond = utils.apply_dict(\n",
    "    einops.repeat,\n",
    "    cond,\n",
    "    'd -> repeat d', repeat=1,\n",
    ")\n",
    "\n",
    "obst_position = [2.1, 2, 0, 0]\n",
    "rad = 1\n",
    "\n",
    "tmp1 = [0, 0, 0, 0]\n",
    "tmp2 = [rad, rad, 0, 0]\n",
    "normed_obst = diffusion.dataset.normalizer.normalize(obst_position, 'observations')\n",
    "tmp1 = diffusion.dataset.normalizer.normalize(tmp1, 'observations')\n",
    "tmp2 = diffusion.dataset.normalizer.normalize(tmp2, 'observations')\n",
    "\n",
    "normed_rad = [(tmp2 - tmp1)[0], (tmp2 - tmp1)[1]]\n",
    "\n",
    "dtau = 1\n",
    "start = time.time()\n",
    "samples = diffusion.ema.cbf_sample_vec(cond, cx=normed_obst[0], cy=normed_obst[1], radius=normed_rad, dtau=dtau)\n",
    "end = time.time()\n",
    "print(end-start)\n",
    "samples = to_np(samples)\n",
    "normed_observations = samples[:, :, 2:]\n",
    "normed_conditions = to_np(cond[0])[:,None]\n",
    "normed_observations = np.concatenate([\n",
    "    np.repeat(normed_conditions, 1, axis=0),\n",
    "    normed_observations\n",
    "    ], axis=1)\n",
    "observations = diffusion.dataset.normalizer.unnormalize(normed_observations, 'observations')\n",
    "images = diffusion.renderer.composite('tmp.png', observations, ncol=1,\n",
    "                                      obst_pos=np.array(obst_position[:2]), obst_rad=rad)"
   ]
  },
  {
   "cell_type": "code",
   "execution_count": null,
   "id": "acea686c-206d-407a-801d-01cc65cea31e",
   "metadata": {},
   "outputs": [],
   "source": []
  }
 ],
 "metadata": {
  "kernelspec": {
   "display_name": "Python 3 (ipykernel)",
   "language": "python",
   "name": "python3"
  },
  "language_info": {
   "codemirror_mode": {
    "name": "ipython",
    "version": 3
   },
   "file_extension": ".py",
   "mimetype": "text/x-python",
   "name": "python",
   "nbconvert_exporter": "python",
   "pygments_lexer": "ipython3",
   "version": "3.8.3"
  }
 },
 "nbformat": 4,
 "nbformat_minor": 5
}
