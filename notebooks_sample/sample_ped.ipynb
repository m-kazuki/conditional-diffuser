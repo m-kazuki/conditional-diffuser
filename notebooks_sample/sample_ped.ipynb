{
 "cells": [
  {
   "cell_type": "code",
   "execution_count": 11,
   "id": "e897cb77-8bf1-437c-8ca9-60c5f253b556",
   "metadata": {
    "scrolled": true
   },
   "outputs": [],
   "source": [
    "import diffuser.utils as utils\n",
    "import ipdb\n",
    "from trajdata import AgentBatch, AgentType, UnifiedDataset\n",
    "from torch.utils.data import DataLoader\n",
    "import os\n",
    "from diffuser.utils.training_ped import Trainer\n",
    "from ldm.models.diffusion.ddpm import Diffusion\n",
    "import time\n",
    "from ldm.models.diffusion.ddim import DDIMSampler\n",
    "import torch\n",
    "from trajdata_utils.interactive_vis import plot_agent_batch_interactive\n",
    "from ldm.models.diffusion.diffusion import GaussianDiffusion\n",
    "from ldm.modules.diffusionmodules.trajunet import UNetModel\n",
    "import copy"
   ]
  },
  {
   "cell_type": "code",
   "execution_count": 32,
   "id": "7cd97944-1b84-42f5-95cc-080b62b9e12e",
   "metadata": {},
   "outputs": [],
   "source": [
    "#-----------------------------------------------------------------------------#\n",
    "#---------------------------------- dataset ----------------------------------#\n",
    "#-----------------------------------------------------------------------------#\n",
    "\n",
    "dataset = UnifiedDataset(\n",
    "    desired_data=[\"eupeds_eth\", \"eupeds_hotel\", \"eupeds_univ\", \"eupeds_zara1\", \"eupeds_zara2\"],\n",
    "    data_dirs={  # Remember to change this to match your filesystem!\n",
    "        \"eupeds_eth\": \"~/traj_dataset/eth-uty\",\n",
    "        \"eupeds_hotel\": \"~/traj_dataset/eth-uty\",\n",
    "        \"eupeds_univ\": \"~/traj_dataset/eth-uty\",\n",
    "        \"eupeds_zara1\": \"~/traj_dataset/eth-uty\",\n",
    "        \"eupeds_zara2\": \"~/traj_dataset/eth-uty\",\n",
    "    },\n",
    "    history_sec =(0.0,  0.0), \n",
    "    future_sec =(15.9,  15.9),\n",
    "    desired_dt=0.1\n",
    ")\n",
    "\n",
    "dataloader = DataLoader(\n",
    "    dataset,\n",
    "    batch_size=1,\n",
    "    shuffle=True,\n",
    "    collate_fn=dataset.get_collate_fn(),\n",
    "    num_workers=0, # This can be set to 0 for single-threaded loading, if desired.\n",
    ")\n"
   ]
  },
  {
   "cell_type": "code",
   "execution_count": 35,
   "id": "93812750-f029-434c-8f60-57e4e719098f",
   "metadata": {},
   "outputs": [
    {
     "name": "stdout",
     "output_type": "stream",
     "text": [
      "[ models/temporal ] Channel dimensions: [(4, 32), (32, 64), (64, 128), (128, 256)]\n",
      "[(4, 32), (32, 64), (64, 128), (128, 256)]\n"
     ]
    }
   ],
   "source": [
    "#-----------------------------------------------------------------------------#\n",
    "#-------------------------------- instantiate --------------------------------#\n",
    "#-----------------------------------------------------------------------------#\n",
    "\n",
    "horizon = 160\n",
    "\n",
    "unet = UNetModel(\n",
    "    horizon = horizon\n",
    ").cuda()\n",
    "\n",
    "diffusion = GaussianDiffusion(\n",
    "    model = unet,\n",
    "    horizon = horizon\n",
    ").cuda()\n",
    "\n",
    "timestr = time.strftime(\"%Y%m%d-%H%M\")\n",
    "output_path = \"./logs/eupeds/\"+timestr\n",
    "trainer = Trainer(\n",
    "    diffusion_model=diffusion,\n",
    "    data_loader=dataloader,\n",
    "    results_folder=output_path\n",
    ")"
   ]
  },
  {
   "cell_type": "code",
   "execution_count": 34,
   "id": "555283fe-3d0e-4c8d-8747-0bb5346d22a7",
   "metadata": {},
   "outputs": [],
   "source": [
    "# trainer.load(0,'../logs/eupeds/20231114-1826/latest.pt')\n",
    "trainer.load(0,'../logs/eupeds/diffuser/latest.pt')\n",
    "# sampler = DDIMSampler(trainer.model)"
   ]
  },
  {
   "cell_type": "code",
   "execution_count": 14,
   "id": "a94e1664-3666-45de-a04a-b7aaa6f9ff34",
   "metadata": {},
   "outputs": [],
   "source": [
    "data = iter(dataloader)\n",
    "batch = next(data)"
   ]
  },
  {
   "cell_type": "code",
   "execution_count": 15,
   "id": "39b8a92a-b5e3-4a47-ae08-52cec89ef2b3",
   "metadata": {},
   "outputs": [],
   "source": [
    "pos = torch.cat((batch.agent_hist.position, batch.agent_fut.position), axis=1).transpose(1,2).cuda()\n",
    "vel = torch.cat((batch.agent_hist.velocity, batch.agent_fut.velocity), axis=1).transpose(1,2).cuda()\n",
    "\n",
    "pos = pos/10 - 0.5\n",
    "vel = vel/10\n",
    "traj = torch.cat((pos, vel), axis=1)\n",
    "\n",
    "cond = pos[:,:2,(0,-1)]"
   ]
  },
  {
   "cell_type": "code",
   "execution_count": 7,
   "id": "c4407929-5765-42f1-81f8-3f22e64baa78",
   "metadata": {},
   "outputs": [],
   "source": [
    "\n",
    "traj_gen = diffusion.conditional_sample(cond)\n",
    "\n",
    "traj_gen[:,:2,:] = (traj_gen[:,:2,:]+0.5)*10\n",
    "traj_gen[:,2:4,:] = traj_gen[:,2:4,:]*10"
   ]
  },
  {
   "cell_type": "code",
   "execution_count": 21,
   "id": "8f01b52e-7f75-459b-8b4f-c6a44305da02",
   "metadata": {},
   "outputs": [],
   "source": [
    "traj_gen = traj_gen.transpose(1,2)"
   ]
  },
  {
   "cell_type": "code",
   "execution_count": 21,
   "id": "4bde706c-274b-4005-b26b-72a631f6ce9d",
   "metadata": {},
   "outputs": [],
   "source": [
    "plot_agent_batch_interactive(batch, batch_idx=0, cache_path=dataset.cache_path)"
   ]
  },
  {
   "cell_type": "code",
   "execution_count": 23,
   "id": "c9a336db-c6b1-4704-8f54-bf7a7592448f",
   "metadata": {},
   "outputs": [],
   "source": [
    "batch_gen = copy.deepcopy(batch)\n",
    "batch_gen.agent_hist.position = traj_gen[:,0,:2].cpu()\n",
    "batch_gen.agent_fut.position = traj_gen[:,1:,:2].cpu()\n",
    "batch_gen.agent_hist.velocity = traj_gen[:,0,2:].cpu()\n",
    "batch_gen.agent_fut.velocity = traj_gen[:,1:,2:].cpu()"
   ]
  },
  {
   "cell_type": "code",
   "execution_count": 24,
   "id": "ac83050e-e64d-4a7f-9c98-0c5d0dcc55a7",
   "metadata": {},
   "outputs": [],
   "source": [
    "plot_agent_batch_interactive(batch_gen, batch_idx=0, cache_path=dataset.cache_path)"
   ]
  },
  {
   "cell_type": "markdown",
   "id": "06d80ae6-ee0c-4b92-b7b3-924d6d261578",
   "metadata": {},
   "source": [
    "## CBF weighted MAP"
   ]
  },
  {
   "cell_type": "code",
   "execution_count": 26,
   "id": "ca8365a1-150d-427c-ba78-d8724aee46e5",
   "metadata": {},
   "outputs": [],
   "source": [
    "batch = next(data)\n",
    "pos = torch.cat((batch.agent_hist.position, batch.agent_fut.position), axis=1).transpose(1,2).cuda()\n",
    "vel = torch.cat((batch.agent_hist.velocity, batch.agent_fut.velocity), axis=1).transpose(1,2).cuda()\n",
    "\n",
    "pos = pos/10 - 0.5\n",
    "vel = vel/10\n",
    "traj = torch.cat((pos, vel), axis=1)\n",
    "\n",
    "cond = pos[:,:2,(0,-1)]"
   ]
  },
  {
   "cell_type": "code",
   "execution_count": 41,
   "id": "1921cd27-cf12-4223-b2ee-0e4d8d724c00",
   "metadata": {},
   "outputs": [],
   "source": [
    "pos_neigh = torch.cat((batch.agent_hist.position+batch.neigh_hist.position, batch.agent_fut.position+batch.neigh_fut.position), axis=2).transpose(2,3).cuda()"
   ]
  },
  {
   "cell_type": "code",
   "execution_count": 28,
   "id": "eb9ce6a9-be2a-4b35-8daa-6c4d6ac3cc91",
   "metadata": {},
   "outputs": [
    {
     "data": {
      "text/plain": [
       "torch.Size([1, 49, 2, 160])"
      ]
     },
     "execution_count": 28,
     "metadata": {},
     "output_type": "execute_result"
    }
   ],
   "source": [
    "pos_neigh.shape"
   ]
  },
  {
   "cell_type": "code",
   "execution_count": 29,
   "id": "54975c18-5725-48be-a040-2f6066e370b9",
   "metadata": {},
   "outputs": [],
   "source": [
    "rad = 1\n",
    "\n",
    "rad = rad/10\n",
    "traj_gen = diffusion.weight_sample(cond, pos_neigh, rad, s=0.1)"
   ]
  },
  {
   "cell_type": "code",
   "execution_count": 30,
   "id": "4d979261-5527-4546-b13c-1f61e8eb0dfa",
   "metadata": {},
   "outputs": [],
   "source": [
    "traj_gen[:,:2,:] = (traj_gen[:,:2,:]+0.5)*10\n",
    "traj_gen[:,2:4,:] = traj_gen[:,2:4,:]*10\n",
    "traj_gen = traj_gen.transpose(1,2)"
   ]
  },
  {
   "cell_type": "code",
   "execution_count": 31,
   "id": "a1aa7441-9b6d-4a6b-a82d-b9c4924acf79",
   "metadata": {},
   "outputs": [],
   "source": [
    "plot_agent_batch_interactive(batch, batch_idx=0, cache_path=dataset.cache_path)\n",
    "batch_gen = copy.deepcopy(batch)\n",
    "batch_gen.agent_hist.position = traj_gen[:,0,:2].cpu()\n",
    "batch_gen.agent_fut.position = traj_gen[:,1:,:2].cpu()\n",
    "batch_gen.agent_hist.velocity = traj_gen[:,0,2:].cpu()\n",
    "batch_gen.agent_fut.velocity = traj_gen[:,1:,2:].cpu()\n",
    "plot_agent_batch_interactive(batch_gen, batch_idx=0, cache_path=dataset.cache_path)"
   ]
  },
  {
   "cell_type": "code",
   "execution_count": null,
   "id": "9fb847f6-811a-4f3d-9612-3453e7b3e78f",
   "metadata": {},
   "outputs": [],
   "source": []
  },
  {
   "cell_type": "code",
   "execution_count": 36,
   "id": "b9410273-e09e-406c-b0d1-c9765f5e8dca",
   "metadata": {},
   "outputs": [
    {
     "data": {
      "text/plain": [
       "torch.Size([1, 2, 2])"
      ]
     },
     "execution_count": 36,
     "metadata": {},
     "output_type": "execute_result"
    }
   ],
   "source": [
    "cond.shape"
   ]
  },
  {
   "cell_type": "code",
   "execution_count": 39,
   "id": "c6c2e253-1a40-47b8-83a3-2f08daaf136d",
   "metadata": {},
   "outputs": [],
   "source": [
    "cond = torch.tensor([[[-0.5, 0], [-0.5, 0]]]).cuda()"
   ]
  },
  {
   "cell_type": "code",
   "execution_count": null,
   "id": "d13b1931-4726-44e2-b741-849968e15eb4",
   "metadata": {},
   "outputs": [],
   "source": []
  },
  {
   "cell_type": "code",
   "execution_count": 52,
   "id": "d9a41091-b7f1-41b9-ab4d-c47e630af02c",
   "metadata": {},
   "outputs": [],
   "source": [
    "pos_neigh[pos_neigh.isnan()] = torch.inf\n",
    "dx = traj[:,0,:]-pos_neigh[:,:,0,:]\n",
    "dy = traj[:,1,:]-pos_neigh[:,:,1,:]"
   ]
  },
  {
   "cell_type": "code",
   "execution_count": 53,
   "id": "e09c03fb-d38e-4921-8e67-3034e0151ac2",
   "metadata": {},
   "outputs": [],
   "source": [
    "dis = dx**2 + dy**2"
   ]
  },
  {
   "cell_type": "code",
   "execution_count": 54,
   "id": "b20b12bb-06ba-45b0-80a6-87c455629911",
   "metadata": {},
   "outputs": [
    {
     "data": {
      "text/plain": [
       "torch.Size([1, 49, 160])"
      ]
     },
     "execution_count": 54,
     "metadata": {},
     "output_type": "execute_result"
    }
   ],
   "source": [
    "dis.shape"
   ]
  },
  {
   "cell_type": "code",
   "execution_count": 56,
   "id": "fc6d4aff-93ec-4937-ad17-e633ed297484",
   "metadata": {},
   "outputs": [],
   "source": [
    "min_idx = torch.min(dis, axis=1).indices"
   ]
  },
  {
   "cell_type": "code",
   "execution_count": 57,
   "id": "28d235c3-5cd9-40a0-a5aa-3b1e5c79140c",
   "metadata": {},
   "outputs": [
    {
     "data": {
      "text/plain": [
       "torch.Size([1, 160])"
      ]
     },
     "execution_count": 57,
     "metadata": {},
     "output_type": "execute_result"
    }
   ],
   "source": [
    "min_idx.shape"
   ]
  },
  {
   "cell_type": "code",
   "execution_count": null,
   "id": "5368795d-a313-474c-9bd6-886cdb6a055d",
   "metadata": {},
   "outputs": [],
   "source": []
  },
  {
   "cell_type": "code",
   "execution_count": null,
   "id": "ebc39259-8a10-4c70-8815-426c0fb95720",
   "metadata": {},
   "outputs": [],
   "source": []
  }
 ],
 "metadata": {
  "kernelspec": {
   "display_name": "Python 3 (ipykernel)",
   "language": "python",
   "name": "python3"
  },
  "language_info": {
   "codemirror_mode": {
    "name": "ipython",
    "version": 3
   },
   "file_extension": ".py",
   "mimetype": "text/x-python",
   "name": "python",
   "nbconvert_exporter": "python",
   "pygments_lexer": "ipython3",
   "version": "3.8.3"
  }
 },
 "nbformat": 4,
 "nbformat_minor": 5
}
