{
 "cells": [
  {
   "cell_type": "code",
   "execution_count": 1,
   "id": "e897cb77-8bf1-437c-8ca9-60c5f253b556",
   "metadata": {
    "scrolled": true
   },
   "outputs": [
    {
     "name": "stderr",
     "output_type": "stream",
     "text": [
      "pybullet build time: May 20 2022 19:44:17\n"
     ]
    }
   ],
   "source": [
    "import diffuser.utils as utils\n",
    "import ipdb\n",
    "from trajdata import AgentBatch, AgentType, UnifiedDataset\n",
    "from torch.utils.data import DataLoader\n",
    "import os\n",
    "from diffuser.utils.training_ped import Trainer\n",
    "from ldm.models.diffusion.ddpm import Diffusion\n",
    "import time\n",
    "from ldm.models.diffusion.ddim import DDIMSampler\n",
    "import torch\n",
    "from trajdata_utils.interactive_vis import plot_agent_batch_interactive\n",
    "import copy"
   ]
  },
  {
   "cell_type": "code",
   "execution_count": 2,
   "id": "7cd97944-1b84-42f5-95cc-080b62b9e12e",
   "metadata": {},
   "outputs": [],
   "source": [
    "#-----------------------------------------------------------------------------#\n",
    "#---------------------------------- dataset ----------------------------------#\n",
    "#-----------------------------------------------------------------------------#\n",
    "\n",
    "dataset = UnifiedDataset(\n",
    "    desired_data=[\"eupeds_eth\", \"eupeds_hotel\", \"eupeds_univ\", \"eupeds_zara1\", \"eupeds_zara2\"],\n",
    "    data_dirs={  # Remember to change this to match your filesystem!\n",
    "        \"eupeds_eth\": \"~/traj_dataset/eth-uty\",\n",
    "        \"eupeds_hotel\": \"~/traj_dataset/eth-uty\",\n",
    "        \"eupeds_univ\": \"~/traj_dataset/eth-uty\",\n",
    "        \"eupeds_zara1\": \"~/traj_dataset/eth-uty\",\n",
    "        \"eupeds_zara2\": \"~/traj_dataset/eth-uty\",\n",
    "    },\n",
    "    history_sec =(0.0,  0.0), \n",
    "    future_sec =(15.9,  15.9),\n",
    "    desired_dt=0.1\n",
    ")\n",
    "\n",
    "dataloader = DataLoader(\n",
    "    dataset,\n",
    "    batch_size=1,\n",
    "    shuffle=True,\n",
    "    collate_fn=dataset.get_collate_fn(),\n",
    "    num_workers=0, # This can be set to 0 for single-threaded loading, if desired.\n",
    ")\n"
   ]
  },
  {
   "cell_type": "code",
   "execution_count": 3,
   "id": "93812750-f029-434c-8f60-57e4e719098f",
   "metadata": {},
   "outputs": [
    {
     "name": "stdout",
     "output_type": "stream",
     "text": [
      "Diffusion: Running in x0-prediction mode\n",
      "[ models/temporal ] Channel dimensions: [(4, 32), (32, 64), (64, 128), (128, 256)]\n",
      "[(4, 32), (32, 64), (64, 128), (128, 256)]\n",
      "UNetModel has 3.95 M params.\n"
     ]
    }
   ],
   "source": [
    "#-----------------------------------------------------------------------------#\n",
    "#-------------------------------- instantiate --------------------------------#\n",
    "#-----------------------------------------------------------------------------#\n",
    "\n",
    "horizon = 160\n",
    "\n",
    "diffusion = Diffusion(\n",
    "    horizon = horizon\n",
    ").cuda()\n",
    "\n",
    "timestr = time.strftime(\"%Y%m%d-%H%M\")\n",
    "output_path = \"./logs/eupeds/\"+timestr\n",
    "os.makedirs(output_path, exist_ok=True)\n",
    "\n",
    "trainer = Trainer(\n",
    "    diffusion_model=diffusion,\n",
    "    data_loader=dataloader,\n",
    "    results_folder=output_path\n",
    ")"
   ]
  },
  {
   "cell_type": "code",
   "execution_count": 4,
   "id": "555283fe-3d0e-4c8d-8747-0bb5346d22a7",
   "metadata": {},
   "outputs": [],
   "source": [
    "# trainer.load(0,'../logs/eupeds/20231114-1826/latest.pt')\n",
    "trainer.load(0,'../logs/eupeds/diffuser/latest.pt')\n",
    "sampler = DDIMSampler(trainer.model)"
   ]
  },
  {
   "cell_type": "code",
   "execution_count": 35,
   "id": "a94e1664-3666-45de-a04a-b7aaa6f9ff34",
   "metadata": {},
   "outputs": [],
   "source": [
    "data = iter(dataloader)\n",
    "batch = next(data)"
   ]
  },
  {
   "cell_type": "code",
   "execution_count": 36,
   "id": "39b8a92a-b5e3-4a47-ae08-52cec89ef2b3",
   "metadata": {},
   "outputs": [],
   "source": [
    "pos = torch.cat((batch.agent_hist.position, batch.agent_fut.position), axis=1).transpose(1,2).cuda()\n",
    "vel = torch.cat((batch.agent_hist.velocity, batch.agent_fut.velocity), axis=1).transpose(1,2).cuda()\n",
    "\n",
    "pos = pos/10 - 0.5\n",
    "vel = vel/10\n",
    "traj = torch.cat((pos, vel), axis=1)\n",
    "\n",
    "cond = pos[:,:2,(0,-1)]"
   ]
  },
  {
   "cell_type": "code",
   "execution_count": 48,
   "id": "c4407929-5765-42f1-81f8-3f22e64baa78",
   "metadata": {},
   "outputs": [
    {
     "name": "stdout",
     "output_type": "stream",
     "text": [
      "Data shape for DDIM sampling is (1, 4, 160), eta 0.0\n",
      "Running DDIM Sampling with 500 timesteps\n"
     ]
    },
    {
     "name": "stderr",
     "output_type": "stream",
     "text": [
      "DDIM Sampler: 100%|████████████████████████████████████████████████████████████| 500/500 [00:01<00:00, 363.63it/s]\n"
     ]
    }
   ],
   "source": [
    "ddim_steps = 500\n",
    "ddim_eta = 0.0\n",
    "\n",
    "traj_gen, _ = sampler.sample(S=ddim_steps,\n",
    "                        conditioning=cond,\n",
    "                        batch_size=1,\n",
    "                        shape=[4, 160],\n",
    "                        verbose=False,\n",
    "                        eta=ddim_eta)\n",
    "\n",
    "traj_gen[:,:2,:] = (traj_gen[:,:2,:]+0.5)*10\n",
    "traj_gen[:,2:4,:] = traj_gen[:,2:4,:]*10"
   ]
  },
  {
   "cell_type": "code",
   "execution_count": 49,
   "id": "8f01b52e-7f75-459b-8b4f-c6a44305da02",
   "metadata": {},
   "outputs": [],
   "source": [
    "traj_gen = traj_gen.transpose(1,2)"
   ]
  },
  {
   "cell_type": "code",
   "execution_count": 50,
   "id": "4bde706c-274b-4005-b26b-72a631f6ce9d",
   "metadata": {},
   "outputs": [],
   "source": [
    "plot_agent_batch_interactive(batch, batch_idx=0, cache_path=dataset.cache_path)"
   ]
  },
  {
   "cell_type": "code",
   "execution_count": 51,
   "id": "c9a336db-c6b1-4704-8f54-bf7a7592448f",
   "metadata": {},
   "outputs": [],
   "source": [
    "batch_gen = copy.deepcopy(batch)\n",
    "batch_gen.agent_hist.position = traj_gen[:,0,:2].cpu()\n",
    "batch_gen.agent_fut.position = traj_gen[:,1:,:2].cpu()\n",
    "batch_gen.agent_hist.velocity = traj_gen[:,0,2:].cpu()\n",
    "batch_gen.agent_fut.velocity = traj_gen[:,1:,2:].cpu()"
   ]
  },
  {
   "cell_type": "code",
   "execution_count": 52,
   "id": "ac83050e-e64d-4a7f-9c98-0c5d0dcc55a7",
   "metadata": {},
   "outputs": [],
   "source": [
    "plot_agent_batch_interactive(batch_gen, batch_idx=0, cache_path=dataset.cache_path)"
   ]
  },
  {
   "cell_type": "code",
   "execution_count": 42,
   "id": "130ff298-3cf4-4b15-baa8-4a6efe3a1520",
   "metadata": {},
   "outputs": [
    {
     "data": {
      "text/plain": [
       "tensor([0.0228, 0.0000], device='cuda:0')"
      ]
     },
     "execution_count": 42,
     "metadata": {},
     "output_type": "execute_result"
    }
   ],
   "source": [
    "traj_gen[0,-1,:2]"
   ]
  },
  {
   "cell_type": "code",
   "execution_count": 43,
   "id": "06c3086f-3234-448c-9fc5-be394ac6bd3a",
   "metadata": {},
   "outputs": [
    {
     "data": {
      "text/plain": [
       "tensor([5.3178e-19, 4.8344e-19], device='cuda:0')"
      ]
     },
     "execution_count": 43,
     "metadata": {},
     "output_type": "execute_result"
    }
   ],
   "source": [
    "traj[0,-1,:2]"
   ]
  },
  {
   "cell_type": "code",
   "execution_count": 44,
   "id": "8a8550cb-3bbc-44d7-844c-0334282ab650",
   "metadata": {},
   "outputs": [
    {
     "data": {
      "text/plain": [
       "tensor([[[-0.5000, -0.4977],\n",
       "         [-0.5000, -0.5000]]], device='cuda:0')"
      ]
     },
     "execution_count": 44,
     "metadata": {},
     "output_type": "execute_result"
    }
   ],
   "source": [
    "cond"
   ]
  },
  {
   "cell_type": "code",
   "execution_count": 45,
   "id": "bcfb3cd3-7681-4990-ac7a-dcf945557a16",
   "metadata": {},
   "outputs": [
    {
     "data": {
      "text/plain": [
       "0.023000000000000242"
      ]
     },
     "execution_count": 45,
     "metadata": {},
     "output_type": "execute_result"
    }
   ],
   "source": [
    "(-0.4977+0.5)*10"
   ]
  },
  {
   "cell_type": "code",
   "execution_count": null,
   "id": "32b89439-7317-455c-b2eb-c62faa0c38af",
   "metadata": {},
   "outputs": [],
   "source": []
  }
 ],
 "metadata": {
  "kernelspec": {
   "display_name": "Python 3 (ipykernel)",
   "language": "python",
   "name": "python3"
  },
  "language_info": {
   "codemirror_mode": {
    "name": "ipython",
    "version": 3
   },
   "file_extension": ".py",
   "mimetype": "text/x-python",
   "name": "python",
   "nbconvert_exporter": "python",
   "pygments_lexer": "ipython3",
   "version": "3.8.3"
  }
 },
 "nbformat": 4,
 "nbformat_minor": 5
}
